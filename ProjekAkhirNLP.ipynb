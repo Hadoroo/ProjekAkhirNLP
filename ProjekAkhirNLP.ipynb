{
 "cells": [
  {
   "cell_type": "markdown",
   "metadata": {},
   "source": [
    "# Importing data"
   ]
  },
  {
   "cell_type": "code",
   "execution_count": 69,
   "metadata": {},
   "outputs": [],
   "source": [
    "#general purpose packages\n",
    "import numpy as np\n",
    "import pandas as pd\n",
    "import tensorflow as tf\n",
    "import matplotlib.pyplot as plt\n",
    "import seaborn as sns\n",
    "\n",
    "#data processing\n",
    "import re, string\n",
    "import emoji\n",
    "import nltk\n",
    "\n",
    "from sklearn import preprocessing\n",
    "from imblearn.over_sampling import RandomOverSampler\n",
    "from sklearn.model_selection import train_test_split\n",
    "\n",
    "#Naive Bayes\n",
    "from sklearn.feature_extraction.text import CountVectorizer\n",
    "from sklearn.feature_extraction.text import TfidfTransformer\n",
    "from sklearn.svm import LinearSVC\n",
    "\n",
    "#transformers\n",
    "from transformers import BertTokenizerFast\n",
    "from transformers import TFBertModel\n",
    "from transformers import RobertaTokenizerFast\n",
    "from transformers import TFRobertaModel\n",
    "\n",
    "#keras\n",
    "import tensorflow as tf\n",
    "from tensorflow import keras\n",
    "\n",
    "#metrics\n",
    "from sklearn.metrics import accuracy_score, f1_score\n",
    "from sklearn.metrics import classification_report, confusion_matrix\n",
    "\n",
    "#set seed for reproducibility\n",
    "seed=42"
   ]
  },
  {
   "cell_type": "code",
   "execution_count": 70,
   "metadata": {},
   "outputs": [],
   "source": [
    "sentiment = pd.read_csv(\"E:/Coding/sem5/NLP/Sentiment1.csv\", encoding='latin1')\n",
    "train = pd.read_csv(\"E:/Coding/sem5/NLP/Train1.csv\", encoding='latin1')"
   ]
  },
  {
   "cell_type": "code",
   "execution_count": 71,
   "metadata": {},
   "outputs": [
    {
     "data": {
      "text/html": [
       "<div>\n",
       "<style scoped>\n",
       "    .dataframe tbody tr th:only-of-type {\n",
       "        vertical-align: middle;\n",
       "    }\n",
       "\n",
       "    .dataframe tbody tr th {\n",
       "        vertical-align: top;\n",
       "    }\n",
       "\n",
       "    .dataframe thead th {\n",
       "        text-align: right;\n",
       "    }\n",
       "</style>\n",
       "<table border=\"1\" class=\"dataframe\">\n",
       "  <thead>\n",
       "    <tr style=\"text-align: right;\">\n",
       "      <th></th>\n",
       "      <th>Date</th>\n",
       "      <th>Text</th>\n",
       "      <th>Username</th>\n",
       "      <th>Length_Text</th>\n",
       "      <th>Sentiment</th>\n",
       "    </tr>\n",
       "  </thead>\n",
       "  <tbody>\n",
       "    <tr>\n",
       "      <th>0</th>\n",
       "      <td>Wed Dec 13 23:47:11 +0000 2023</td>\n",
       "      <td>@Hasbil_Lbs @aniesbaswedan gampang sih bikin v...</td>\n",
       "      <td>DzulfiqorParisi</td>\n",
       "      <td>254</td>\n",
       "      <td>Negative</td>\n",
       "    </tr>\n",
       "    <tr>\n",
       "      <th>1</th>\n",
       "      <td>Wed Dec 13 23:46:34 +0000 2023</td>\n",
       "      <td>Lagi, lagi dan terus Tokoh Harapan yg dirinduk...</td>\n",
       "      <td>sumadiseloguno</td>\n",
       "      <td>222</td>\n",
       "      <td>Positive</td>\n",
       "    </tr>\n",
       "    <tr>\n",
       "      <th>2</th>\n",
       "      <td>Wed Dec 13 23:43:39 +0000 2023</td>\n",
       "      <td>Biarpun BuzzeRp dikerahkan utk trs bela junjun...</td>\n",
       "      <td>AlfathMelfas</td>\n",
       "      <td>281</td>\n",
       "      <td>Negative</td>\n",
       "    </tr>\n",
       "    <tr>\n",
       "      <th>3</th>\n",
       "      <td>Wed Dec 13 23:36:50 +0000 2023</td>\n",
       "      <td>Kagum dgn senyum pak Anies yg teteup tersunggi...</td>\n",
       "      <td>SBahriTweet</td>\n",
       "      <td>216</td>\n",
       "      <td>Positive</td>\n",
       "    </tr>\n",
       "    <tr>\n",
       "      <th>4</th>\n",
       "      <td>Wed Dec 13 23:36:04 +0000 2023</td>\n",
       "      <td>Gemoy sih tapiiii..udah TUAAAAA..????...jadi s...</td>\n",
       "      <td>samask_1</td>\n",
       "      <td>161</td>\n",
       "      <td>Neutral</td>\n",
       "    </tr>\n",
       "  </tbody>\n",
       "</table>\n",
       "</div>"
      ],
      "text/plain": [
       "                             Date  \\\n",
       "0  Wed Dec 13 23:47:11 +0000 2023   \n",
       "1  Wed Dec 13 23:46:34 +0000 2023   \n",
       "2  Wed Dec 13 23:43:39 +0000 2023   \n",
       "3  Wed Dec 13 23:36:50 +0000 2023   \n",
       "4  Wed Dec 13 23:36:04 +0000 2023   \n",
       "\n",
       "                                                Text         Username  \\\n",
       "0  @Hasbil_Lbs @aniesbaswedan gampang sih bikin v...  DzulfiqorParisi   \n",
       "1  Lagi, lagi dan terus Tokoh Harapan yg dirinduk...   sumadiseloguno   \n",
       "2  Biarpun BuzzeRp dikerahkan utk trs bela junjun...     AlfathMelfas   \n",
       "3  Kagum dgn senyum pak Anies yg teteup tersunggi...      SBahriTweet   \n",
       "4  Gemoy sih tapiiii..udah TUAAAAA..????...jadi s...         samask_1   \n",
       "\n",
       "   Length_Text Sentiment  \n",
       "0          254  Negative  \n",
       "1          222  Positive  \n",
       "2          281  Negative  \n",
       "3          216  Positive  \n",
       "4          161   Neutral  "
      ]
     },
     "execution_count": 71,
     "metadata": {},
     "output_type": "execute_result"
    }
   ],
   "source": [
    "sentiment.head()"
   ]
  },
  {
   "cell_type": "code",
   "execution_count": 72,
   "metadata": {},
   "outputs": [
    {
     "name": "stdout",
     "output_type": "stream",
     "text": [
      "<class 'pandas.core.frame.DataFrame'>\n",
      "RangeIndex: 1336 entries, 0 to 1335\n",
      "Data columns (total 5 columns):\n",
      " #   Column       Non-Null Count  Dtype \n",
      "---  ------       --------------  ----- \n",
      " 0   Date         1336 non-null   object\n",
      " 1   Text         1336 non-null   object\n",
      " 2   Username     1336 non-null   object\n",
      " 3   Length_Text  1336 non-null   int64 \n",
      " 4   Sentiment    1336 non-null   object\n",
      "dtypes: int64(1), object(4)\n",
      "memory usage: 52.3+ KB\n"
     ]
    }
   ],
   "source": [
    "sentiment.info()"
   ]
  },
  {
   "cell_type": "code",
   "execution_count": 73,
   "metadata": {},
   "outputs": [
    {
     "data": {
      "text/html": [
       "<div>\n",
       "<style scoped>\n",
       "    .dataframe tbody tr th:only-of-type {\n",
       "        vertical-align: middle;\n",
       "    }\n",
       "\n",
       "    .dataframe tbody tr th {\n",
       "        vertical-align: top;\n",
       "    }\n",
       "\n",
       "    .dataframe thead th {\n",
       "        text-align: right;\n",
       "    }\n",
       "</style>\n",
       "<table border=\"1\" class=\"dataframe\">\n",
       "  <thead>\n",
       "    <tr style=\"text-align: right;\">\n",
       "      <th></th>\n",
       "      <th>Date</th>\n",
       "      <th>Text</th>\n",
       "      <th>Username</th>\n",
       "      <th>Length_Text</th>\n",
       "      <th>Sentiment</th>\n",
       "    </tr>\n",
       "  </thead>\n",
       "  <tbody>\n",
       "    <tr>\n",
       "      <th>0</th>\n",
       "      <td>Wed Dec 13 17:59:27 +0000 2023</td>\n",
       "      <td>Poling Diadakan Oleh Kader PSI Dan Yang Menang...</td>\n",
       "      <td>msw_andi</td>\n",
       "      <td>137</td>\n",
       "      <td>Positive</td>\n",
       "    </tr>\n",
       "    <tr>\n",
       "      <th>1</th>\n",
       "      <td>Wed Dec 13 17:48:49 +0000 2023</td>\n",
       "      <td>Unggul Telak Dalam Debat Capres  Anies Basweda...</td>\n",
       "      <td>msw_andi</td>\n",
       "      <td>231</td>\n",
       "      <td>Positive</td>\n",
       "    </tr>\n",
       "    <tr>\n",
       "      <th>2</th>\n",
       "      <td>Wed Dec 13 17:32:11 +0000 2023</td>\n",
       "      <td>Sihlakan Retweet bagi yang dukung @aniesbaswed...</td>\n",
       "      <td>NafisahKH2022</td>\n",
       "      <td>165</td>\n",
       "      <td>Positive</td>\n",
       "    </tr>\n",
       "    <tr>\n",
       "      <th>3</th>\n",
       "      <td>Wed Dec 13 16:50:05 +0000 2023</td>\n",
       "      <td>@DPP_PKB @aniesbaswedan @cakimiNOW good job pa...</td>\n",
       "      <td>pikiranlugu</td>\n",
       "      <td>227</td>\n",
       "      <td>Positive</td>\n",
       "    </tr>\n",
       "    <tr>\n",
       "      <th>4</th>\n",
       "      <td>Mon Dec 18 01:40:53 +0000 2023</td>\n",
       "      <td>@Fahrihamzah Wakanda No More ? Indonesia Forev...</td>\n",
       "      <td>RakhaBilly6</td>\n",
       "      <td>128</td>\n",
       "      <td>Neutral</td>\n",
       "    </tr>\n",
       "  </tbody>\n",
       "</table>\n",
       "</div>"
      ],
      "text/plain": [
       "                             Date  \\\n",
       "0  Wed Dec 13 17:59:27 +0000 2023   \n",
       "1  Wed Dec 13 17:48:49 +0000 2023   \n",
       "2  Wed Dec 13 17:32:11 +0000 2023   \n",
       "3  Wed Dec 13 16:50:05 +0000 2023   \n",
       "4  Mon Dec 18 01:40:53 +0000 2023   \n",
       "\n",
       "                                                Text       Username  \\\n",
       "0  Poling Diadakan Oleh Kader PSI Dan Yang Menang...       msw_andi   \n",
       "1  Unggul Telak Dalam Debat Capres  Anies Basweda...       msw_andi   \n",
       "2  Sihlakan Retweet bagi yang dukung @aniesbaswed...  NafisahKH2022   \n",
       "3  @DPP_PKB @aniesbaswedan @cakimiNOW good job pa...    pikiranlugu   \n",
       "4  @Fahrihamzah Wakanda No More ? Indonesia Forev...    RakhaBilly6   \n",
       "\n",
       "   Length_Text Sentiment  \n",
       "0          137  Positive  \n",
       "1          231  Positive  \n",
       "2          165  Positive  \n",
       "3          227  Positive  \n",
       "4          128   Neutral  "
      ]
     },
     "execution_count": 73,
     "metadata": {},
     "output_type": "execute_result"
    }
   ],
   "source": [
    "train.head()"
   ]
  },
  {
   "cell_type": "code",
   "execution_count": 74,
   "metadata": {},
   "outputs": [
    {
     "name": "stdout",
     "output_type": "stream",
     "text": [
      "<class 'pandas.core.frame.DataFrame'>\n",
      "RangeIndex: 1336 entries, 0 to 1335\n",
      "Data columns (total 5 columns):\n",
      " #   Column       Non-Null Count  Dtype \n",
      "---  ------       --------------  ----- \n",
      " 0   Date         1336 non-null   object\n",
      " 1   Text         1336 non-null   object\n",
      " 2   Username     1336 non-null   object\n",
      " 3   Length_Text  1336 non-null   int64 \n",
      " 4   Sentiment    1336 non-null   object\n",
      "dtypes: int64(1), object(4)\n",
      "memory usage: 52.3+ KB\n"
     ]
    }
   ],
   "source": [
    "train.info()"
   ]
  },
  {
   "cell_type": "markdown",
   "metadata": {},
   "source": [
    "# Preprocessing data"
   ]
  },
  {
   "cell_type": "markdown",
   "metadata": {},
   "source": [
    "## Redundant data handling"
   ]
  },
  {
   "cell_type": "code",
   "execution_count": 75,
   "metadata": {},
   "outputs": [],
   "source": [
    "sentiment = sentiment.drop(labels=['Date', 'Username'], axis=1)\n",
    "train = train.drop(labels=['Date', 'Username'], axis=1)"
   ]
  },
  {
   "cell_type": "markdown",
   "metadata": {},
   "source": [
    "## Duplicate values handling"
   ]
  },
  {
   "cell_type": "code",
   "execution_count": 76,
   "metadata": {},
   "outputs": [
    {
     "name": "stdout",
     "output_type": "stream",
     "text": [
      "<class 'pandas.core.frame.DataFrame'>\n",
      "RangeIndex: 1336 entries, 0 to 1335\n",
      "Data columns (total 3 columns):\n",
      " #   Column       Non-Null Count  Dtype \n",
      "---  ------       --------------  ----- \n",
      " 0   Text         1336 non-null   object\n",
      " 1   Length_Text  1336 non-null   int64 \n",
      " 2   Sentiment    1336 non-null   object\n",
      "dtypes: int64(1), object(2)\n",
      "memory usage: 31.4+ KB\n"
     ]
    }
   ],
   "source": [
    "sentiment.info()"
   ]
  },
  {
   "cell_type": "code",
   "execution_count": 77,
   "metadata": {},
   "outputs": [
    {
     "name": "stdout",
     "output_type": "stream",
     "text": [
      "<class 'pandas.core.frame.DataFrame'>\n",
      "RangeIndex: 1336 entries, 0 to 1335\n",
      "Data columns (total 3 columns):\n",
      " #   Column       Non-Null Count  Dtype \n",
      "---  ------       --------------  ----- \n",
      " 0   Text         1336 non-null   object\n",
      " 1   Length_Text  1336 non-null   int64 \n",
      " 2   Sentiment    1336 non-null   object\n",
      "dtypes: int64(1), object(2)\n",
      "memory usage: 31.4+ KB\n"
     ]
    }
   ],
   "source": [
    "train.info()"
   ]
  },
  {
   "cell_type": "code",
   "execution_count": 78,
   "metadata": {},
   "outputs": [],
   "source": [
    "sentiment.drop_duplicates(subset='Text',inplace=True)\n",
    "train.drop_duplicates(subset='Text',inplace=True)"
   ]
  },
  {
   "cell_type": "code",
   "execution_count": 79,
   "metadata": {},
   "outputs": [
    {
     "name": "stdout",
     "output_type": "stream",
     "text": [
      "<class 'pandas.core.frame.DataFrame'>\n",
      "Index: 1327 entries, 0 to 1335\n",
      "Data columns (total 3 columns):\n",
      " #   Column       Non-Null Count  Dtype \n",
      "---  ------       --------------  ----- \n",
      " 0   Text         1327 non-null   object\n",
      " 1   Length_Text  1327 non-null   int64 \n",
      " 2   Sentiment    1327 non-null   object\n",
      "dtypes: int64(1), object(2)\n",
      "memory usage: 41.5+ KB\n"
     ]
    }
   ],
   "source": [
    "sentiment.info()"
   ]
  },
  {
   "cell_type": "code",
   "execution_count": 80,
   "metadata": {},
   "outputs": [
    {
     "name": "stdout",
     "output_type": "stream",
     "text": [
      "<class 'pandas.core.frame.DataFrame'>\n",
      "Index: 1327 entries, 0 to 1335\n",
      "Data columns (total 3 columns):\n",
      " #   Column       Non-Null Count  Dtype \n",
      "---  ------       --------------  ----- \n",
      " 0   Text         1327 non-null   object\n",
      " 1   Length_Text  1327 non-null   int64 \n",
      " 2   Sentiment    1327 non-null   object\n",
      "dtypes: int64(1), object(2)\n",
      "memory usage: 41.5+ KB\n"
     ]
    }
   ],
   "source": [
    "train.info()"
   ]
  },
  {
   "cell_type": "markdown",
   "metadata": {},
   "source": [
    "## Text deep cleaning"
   ]
  },
  {
   "cell_type": "code",
   "execution_count": 81,
   "metadata": {},
   "outputs": [
    {
     "name": "stderr",
     "output_type": "stream",
     "text": [
      "<>:33: SyntaxWarning: invalid escape sequence '\\w'\n",
      "<>:47: SyntaxWarning: invalid escape sequence '\\s'\n",
      "<>:33: SyntaxWarning: invalid escape sequence '\\w'\n",
      "<>:47: SyntaxWarning: invalid escape sequence '\\s'\n",
      "C:\\Users\\hadik\\AppData\\Local\\Temp\\ipykernel_24020\\2572380529.py:33: SyntaxWarning: invalid escape sequence '\\w'\n",
      "  new_tweet = \" \".join(word.strip() for word in re.split('#(?!(?:hashtag)\\b)[\\w-]+(?=(?:\\s+#[\\w-]+)*\\s*$)', tweet))\n",
      "C:\\Users\\hadik\\AppData\\Local\\Temp\\ipykernel_24020\\2572380529.py:47: SyntaxWarning: invalid escape sequence '\\s'\n",
      "  return re.sub(\"\\s\\s+\" , \" \", text)\n"
     ]
    }
   ],
   "source": [
    "def Strip_emoji(text):\n",
    "    emoji_pattern = re.compile(\"[\"\n",
    "                           u\"\\U0001F600-\\U0001F64F\" \n",
    "                           u\"\\U0001F300-\\U0001F5FF\"  \n",
    "                           u\"\\U0001F680-\\U0001F6FF\" \n",
    "                           u\"\\U0001F1E0-\\U0001F1FF\"  \n",
    "                           u\"\\U00002500-\\U00002BEF\" \n",
    "                           u\"\\U00002702-\\U000027B0\"\n",
    "                           u\"\\U00002702-\\U000027B0\"\n",
    "                           u\"\\U000024C2-\\U0001F251\"\n",
    "                           u\"\\U0001f926-\\U0001f937\"\n",
    "                           u\"\\U00010000-\\U0010ffff\"\n",
    "                           u\"\\u200d\"\n",
    "                           u\"\\u2640-\\u2642\"\n",
    "                           u\"\\u2600-\\u2B55\"\n",
    "                           u\"\\u23cf\"\n",
    "                           u\"\\u23e9\"\n",
    "                           u\"\\u231a\"\n",
    "                           u\"\\u3030\"\n",
    "                           \"]+\", flags=re.UNICODE)\n",
    "    return emoji_pattern.sub(r'', text)\n",
    "\n",
    "def Strip_all_entities(text):\n",
    "    text = text.replace('\\r', '').replace('\\n', ' ').replace('\\n', ' ').lower()\n",
    "    text = re.sub(r\"(?:\\@|https?\\://)\\S+\", \"\", text)\n",
    "    text = re.sub(r'[^\\x00-\\x7f]',r'', text) \n",
    "    banned_list= string.punctuation + 'Ã'+'±'+'ã'+'¼'+'â'+'»'+'§'\n",
    "    table = str.maketrans('', '', banned_list)\n",
    "    text = text.translate(table)\n",
    "    return text\n",
    "\n",
    "def Clean_hashtags(tweet):\n",
    "    new_tweet = \" \".join(word.strip() for word in re.split('#(?!(?:hashtag)\\b)[\\w-]+(?=(?:\\s+#[\\w-]+)*\\s*$)', tweet))\n",
    "    new_tweet2 = \" \".join(word.strip() for word in re.split('#|_', new_tweet)) \n",
    "    return new_tweet2\n",
    "\n",
    "def Filter_chars(a):\n",
    "    sent = []\n",
    "    for word in a.split(' '):\n",
    "        if ('$' in word) | ('&' in word):\n",
    "            sent.append('')\n",
    "        else:\n",
    "            sent.append(word)\n",
    "    return ' '.join(sent)\n",
    "\n",
    "def Remove_mult_spaces(text):\n",
    "    return re.sub(\"\\s\\s+\" , \" \", text)\n",
    "\n",
    "def Text_deep_cleaning(text):\n",
    "    return Remove_mult_spaces(Filter_chars(Clean_hashtags(Strip_all_entities(Strip_emoji(text)))))"
   ]
  },
  {
   "cell_type": "code",
   "execution_count": 82,
   "metadata": {},
   "outputs": [],
   "source": [
    "cleaned_text = []\n",
    "for text in sentiment.Text:\n",
    "    cleaned_text.append(Text_deep_cleaning(text))\n",
    "    \n",
    "sentiment['Text'] = cleaned_text\n",
    "\n",
    "cleaned_text = []\n",
    "for text in train.Text:\n",
    "    cleaned_text.append(Text_deep_cleaning(text))\n",
    "    \n",
    "train['Text'] = cleaned_text"
   ]
  },
  {
   "cell_type": "code",
   "execution_count": 83,
   "metadata": {},
   "outputs": [],
   "source": [
    "cleaned_text = []\n",
    "for text in sentiment.Text:\n",
    "    cleaned_text.append(len(text.split()))\n",
    "    \n",
    "sentiment['Length_Text'] = cleaned_text\n",
    "\n",
    "cleaned_text = []\n",
    "for text in train.Text:\n",
    "    cleaned_text.append(len(text.split()))\n",
    "    \n",
    "train['Length_Text'] = cleaned_text"
   ]
  },
  {
   "cell_type": "code",
   "execution_count": 84,
   "metadata": {},
   "outputs": [
    {
     "data": {
      "text/html": [
       "<div>\n",
       "<style scoped>\n",
       "    .dataframe tbody tr th:only-of-type {\n",
       "        vertical-align: middle;\n",
       "    }\n",
       "\n",
       "    .dataframe tbody tr th {\n",
       "        vertical-align: top;\n",
       "    }\n",
       "\n",
       "    .dataframe thead th {\n",
       "        text-align: right;\n",
       "    }\n",
       "</style>\n",
       "<table border=\"1\" class=\"dataframe\">\n",
       "  <thead>\n",
       "    <tr style=\"text-align: right;\">\n",
       "      <th></th>\n",
       "      <th>Text</th>\n",
       "      <th>Length_Text</th>\n",
       "      <th>Sentiment</th>\n",
       "    </tr>\n",
       "  </thead>\n",
       "  <tbody>\n",
       "    <tr>\n",
       "      <th>0</th>\n",
       "      <td>gampang sih bikin video kya gt konsepnya gt ga...</td>\n",
       "      <td>28</td>\n",
       "      <td>Negative</td>\n",
       "    </tr>\n",
       "    <tr>\n",
       "      <th>1</th>\n",
       "      <td>lagi lagi dan terus tokoh harapan yg dirinduka...</td>\n",
       "      <td>23</td>\n",
       "      <td>Positive</td>\n",
       "    </tr>\n",
       "    <tr>\n",
       "      <th>2</th>\n",
       "      <td>biarpun buzzerp dikerahkan utk trs bela junjun...</td>\n",
       "      <td>28</td>\n",
       "      <td>Negative</td>\n",
       "    </tr>\n",
       "    <tr>\n",
       "      <th>3</th>\n",
       "      <td>kagum dgn senyum pak anies yg teteup tersunggi...</td>\n",
       "      <td>27</td>\n",
       "      <td>Positive</td>\n",
       "    </tr>\n",
       "    <tr>\n",
       "      <th>4</th>\n",
       "      <td>gemoy sih tapiiiiudah tuaaaaajadi sering lupa ...</td>\n",
       "      <td>10</td>\n",
       "      <td>Neutral</td>\n",
       "    </tr>\n",
       "  </tbody>\n",
       "</table>\n",
       "</div>"
      ],
      "text/plain": [
       "                                                Text  Length_Text Sentiment\n",
       "0  gampang sih bikin video kya gt konsepnya gt ga...           28  Negative\n",
       "1  lagi lagi dan terus tokoh harapan yg dirinduka...           23  Positive\n",
       "2  biarpun buzzerp dikerahkan utk trs bela junjun...           28  Negative\n",
       "3  kagum dgn senyum pak anies yg teteup tersunggi...           27  Positive\n",
       "4  gemoy sih tapiiiiudah tuaaaaajadi sering lupa ...           10   Neutral"
      ]
     },
     "execution_count": 84,
     "metadata": {},
     "output_type": "execute_result"
    }
   ],
   "source": [
    "sentiment.head()"
   ]
  },
  {
   "cell_type": "code",
   "execution_count": 85,
   "metadata": {},
   "outputs": [
    {
     "data": {
      "text/html": [
       "<div>\n",
       "<style scoped>\n",
       "    .dataframe tbody tr th:only-of-type {\n",
       "        vertical-align: middle;\n",
       "    }\n",
       "\n",
       "    .dataframe tbody tr th {\n",
       "        vertical-align: top;\n",
       "    }\n",
       "\n",
       "    .dataframe thead th {\n",
       "        text-align: right;\n",
       "    }\n",
       "</style>\n",
       "<table border=\"1\" class=\"dataframe\">\n",
       "  <thead>\n",
       "    <tr style=\"text-align: right;\">\n",
       "      <th></th>\n",
       "      <th>Text</th>\n",
       "      <th>Length_Text</th>\n",
       "      <th>Sentiment</th>\n",
       "    </tr>\n",
       "  </thead>\n",
       "  <tbody>\n",
       "    <tr>\n",
       "      <th>0</th>\n",
       "      <td>poling diadakan oleh kader psi dan yang menang...</td>\n",
       "      <td>11</td>\n",
       "      <td>Positive</td>\n",
       "    </tr>\n",
       "    <tr>\n",
       "      <th>1</th>\n",
       "      <td>unggul telak dalam debat capres anies baswedan...</td>\n",
       "      <td>20</td>\n",
       "      <td>Positive</td>\n",
       "    </tr>\n",
       "    <tr>\n",
       "      <th>2</th>\n",
       "      <td>sihlakan retweet bagi yang dukung amp aniesmuh...</td>\n",
       "      <td>7</td>\n",
       "      <td>Positive</td>\n",
       "    </tr>\n",
       "    <tr>\n",
       "      <th>3</th>\n",
       "      <td>good job pak anies baswedan bersama pak muhaim...</td>\n",
       "      <td>22</td>\n",
       "      <td>Positive</td>\n",
       "    </tr>\n",
       "    <tr>\n",
       "      <th>4</th>\n",
       "      <td>wakanda no more indonesia forever aniesmuhaimi...</td>\n",
       "      <td>6</td>\n",
       "      <td>Neutral</td>\n",
       "    </tr>\n",
       "  </tbody>\n",
       "</table>\n",
       "</div>"
      ],
      "text/plain": [
       "                                                Text  Length_Text Sentiment\n",
       "0  poling diadakan oleh kader psi dan yang menang...           11  Positive\n",
       "1  unggul telak dalam debat capres anies baswedan...           20  Positive\n",
       "2  sihlakan retweet bagi yang dukung amp aniesmuh...            7  Positive\n",
       "3  good job pak anies baswedan bersama pak muhaim...           22  Positive\n",
       "4  wakanda no more indonesia forever aniesmuhaimi...            6   Neutral"
      ]
     },
     "execution_count": 85,
     "metadata": {},
     "output_type": "execute_result"
    }
   ],
   "source": [
    "train.head()"
   ]
  },
  {
   "cell_type": "markdown",
   "metadata": {},
   "source": [
    "## Tokenizer"
   ]
  },
  {
   "cell_type": "code",
   "execution_count": 86,
   "metadata": {},
   "outputs": [],
   "source": [
    "tokenizer = BertTokenizerFast.from_pretrained('bert-base-uncased')"
   ]
  },
  {
   "cell_type": "code",
   "execution_count": 87,
   "metadata": {},
   "outputs": [],
   "source": [
    "token_len = []\n",
    "\n",
    "for text in sentiment.Text:\n",
    "    token = tokenizer.encode(text, truncation=True)\n",
    "    token_len.append(len(token))\n",
    "\n",
    "sentiment['token_len'] = token_len\n",
    "\n",
    "token_len = []\n",
    "\n",
    "for text in train.Text:\n",
    "    token = tokenizer.encode(text, truncation=True)\n",
    "    token_len.append(len(token))\n",
    "\n",
    "train['token_len'] = token_len"
   ]
  },
  {
   "cell_type": "code",
   "execution_count": 88,
   "metadata": {},
   "outputs": [
    {
     "data": {
      "text/html": [
       "<div>\n",
       "<style scoped>\n",
       "    .dataframe tbody tr th:only-of-type {\n",
       "        vertical-align: middle;\n",
       "    }\n",
       "\n",
       "    .dataframe tbody tr th {\n",
       "        vertical-align: top;\n",
       "    }\n",
       "\n",
       "    .dataframe thead th {\n",
       "        text-align: right;\n",
       "    }\n",
       "</style>\n",
       "<table border=\"1\" class=\"dataframe\">\n",
       "  <thead>\n",
       "    <tr style=\"text-align: right;\">\n",
       "      <th></th>\n",
       "      <th>Text</th>\n",
       "      <th>Length_Text</th>\n",
       "      <th>Sentiment</th>\n",
       "      <th>token_len</th>\n",
       "    </tr>\n",
       "  </thead>\n",
       "  <tbody>\n",
       "    <tr>\n",
       "      <th>0</th>\n",
       "      <td>gampang sih bikin video kya gt konsepnya gt ga...</td>\n",
       "      <td>28</td>\n",
       "      <td>Negative</td>\n",
       "      <td>68</td>\n",
       "    </tr>\n",
       "    <tr>\n",
       "      <th>1</th>\n",
       "      <td>lagi lagi dan terus tokoh harapan yg dirinduka...</td>\n",
       "      <td>23</td>\n",
       "      <td>Positive</td>\n",
       "      <td>66</td>\n",
       "    </tr>\n",
       "    <tr>\n",
       "      <th>2</th>\n",
       "      <td>biarpun buzzerp dikerahkan utk trs bela junjun...</td>\n",
       "      <td>28</td>\n",
       "      <td>Negative</td>\n",
       "      <td>84</td>\n",
       "    </tr>\n",
       "    <tr>\n",
       "      <th>3</th>\n",
       "      <td>kagum dgn senyum pak anies yg teteup tersunggi...</td>\n",
       "      <td>27</td>\n",
       "      <td>Positive</td>\n",
       "      <td>62</td>\n",
       "    </tr>\n",
       "    <tr>\n",
       "      <th>4</th>\n",
       "      <td>gemoy sih tapiiiiudah tuaaaaajadi sering lupa ...</td>\n",
       "      <td>10</td>\n",
       "      <td>Neutral</td>\n",
       "      <td>33</td>\n",
       "    </tr>\n",
       "  </tbody>\n",
       "</table>\n",
       "</div>"
      ],
      "text/plain": [
       "                                                Text  Length_Text Sentiment  \\\n",
       "0  gampang sih bikin video kya gt konsepnya gt ga...           28  Negative   \n",
       "1  lagi lagi dan terus tokoh harapan yg dirinduka...           23  Positive   \n",
       "2  biarpun buzzerp dikerahkan utk trs bela junjun...           28  Negative   \n",
       "3  kagum dgn senyum pak anies yg teteup tersunggi...           27  Positive   \n",
       "4  gemoy sih tapiiiiudah tuaaaaajadi sering lupa ...           10   Neutral   \n",
       "\n",
       "   token_len  \n",
       "0         68  \n",
       "1         66  \n",
       "2         84  \n",
       "3         62  \n",
       "4         33  "
      ]
     },
     "execution_count": 88,
     "metadata": {},
     "output_type": "execute_result"
    }
   ],
   "source": [
    "sentiment.head()"
   ]
  },
  {
   "cell_type": "code",
   "execution_count": 89,
   "metadata": {},
   "outputs": [
    {
     "data": {
      "text/html": [
       "<div>\n",
       "<style scoped>\n",
       "    .dataframe tbody tr th:only-of-type {\n",
       "        vertical-align: middle;\n",
       "    }\n",
       "\n",
       "    .dataframe tbody tr th {\n",
       "        vertical-align: top;\n",
       "    }\n",
       "\n",
       "    .dataframe thead th {\n",
       "        text-align: right;\n",
       "    }\n",
       "</style>\n",
       "<table border=\"1\" class=\"dataframe\">\n",
       "  <thead>\n",
       "    <tr style=\"text-align: right;\">\n",
       "      <th></th>\n",
       "      <th>Text</th>\n",
       "      <th>Length_Text</th>\n",
       "      <th>Sentiment</th>\n",
       "      <th>token_len</th>\n",
       "    </tr>\n",
       "  </thead>\n",
       "  <tbody>\n",
       "    <tr>\n",
       "      <th>0</th>\n",
       "      <td>poling diadakan oleh kader psi dan yang menang...</td>\n",
       "      <td>11</td>\n",
       "      <td>Positive</td>\n",
       "      <td>28</td>\n",
       "    </tr>\n",
       "    <tr>\n",
       "      <th>1</th>\n",
       "      <td>unggul telak dalam debat capres anies baswedan...</td>\n",
       "      <td>20</td>\n",
       "      <td>Positive</td>\n",
       "      <td>62</td>\n",
       "    </tr>\n",
       "    <tr>\n",
       "      <th>2</th>\n",
       "      <td>sihlakan retweet bagi yang dukung amp aniesmuh...</td>\n",
       "      <td>7</td>\n",
       "      <td>Positive</td>\n",
       "      <td>24</td>\n",
       "    </tr>\n",
       "    <tr>\n",
       "      <th>3</th>\n",
       "      <td>good job pak anies baswedan bersama pak muhaim...</td>\n",
       "      <td>22</td>\n",
       "      <td>Positive</td>\n",
       "      <td>54</td>\n",
       "    </tr>\n",
       "    <tr>\n",
       "      <th>4</th>\n",
       "      <td>wakanda no more indonesia forever aniesmuhaimi...</td>\n",
       "      <td>6</td>\n",
       "      <td>Neutral</td>\n",
       "      <td>16</td>\n",
       "    </tr>\n",
       "  </tbody>\n",
       "</table>\n",
       "</div>"
      ],
      "text/plain": [
       "                                                Text  Length_Text Sentiment  \\\n",
       "0  poling diadakan oleh kader psi dan yang menang...           11  Positive   \n",
       "1  unggul telak dalam debat capres anies baswedan...           20  Positive   \n",
       "2  sihlakan retweet bagi yang dukung amp aniesmuh...            7  Positive   \n",
       "3  good job pak anies baswedan bersama pak muhaim...           22  Positive   \n",
       "4  wakanda no more indonesia forever aniesmuhaimi...            6   Neutral   \n",
       "\n",
       "   token_len  \n",
       "0         28  \n",
       "1         62  \n",
       "2         24  \n",
       "3         54  \n",
       "4         16  "
      ]
     },
     "execution_count": 89,
     "metadata": {},
     "output_type": "execute_result"
    }
   ],
   "source": [
    "train.head()"
   ]
  },
  {
   "cell_type": "code",
   "execution_count": null,
   "metadata": {},
   "outputs": [],
   "source": []
  },
  {
   "cell_type": "markdown",
   "metadata": {},
   "source": [
    "#"
   ]
  }
 ],
 "metadata": {
  "kernelspec": {
   "display_name": "Python 3",
   "language": "python",
   "name": "python3"
  },
  "language_info": {
   "codemirror_mode": {
    "name": "ipython",
    "version": 3
   },
   "file_extension": ".py",
   "mimetype": "text/x-python",
   "name": "python",
   "nbconvert_exporter": "python",
   "pygments_lexer": "ipython3",
   "version": "3.12.5"
  }
 },
 "nbformat": 4,
 "nbformat_minor": 2
}
